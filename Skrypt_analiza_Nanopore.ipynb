{
 "cells": [
  {
   "cell_type": "markdown",
   "metadata": {},
   "source": [
    "##  Analizy danych sekwencjonowania w technologii Oxford Nanopore z uwzględnieniem występowania wariantów w pozycjach 3460 (G>A) oraz 9889 (C>T)\n",
    "\n",
    "Etapy postępowania:\n",
    "1. Import bibliotek do analizy danych.\n",
    "2. Przekształcenie danych z sekwencjonowania Nanopore w formatu binarnego bam do sam, pozostawienie tylko linii zawierających odczyty (usunięcie danych z nagłówka pliku sam), wybór tylko 10 pierwszych kolumn (zmniejszenie szerokości tabeli).\n",
    "3. Wczytanie danych do Pythona z wykorzystaniem biblioteki Pandas.\n",
    "3. Podział danych ze względu na numer eksperymentu - większość danych pochodzi z 1. eksperymentu. W drugi ksperymencie usyskano tylko 23 odczyty, dlatego w dalszej procedurze nie będziemy ich traktować odrębnie.\n",
    "3. Identyfikacja nukleotydów, które znajdują się w pozycjach: 3460 oraz 9889.\n",
    "4. Analiza statytyczna danych."
   ]
  },
  {
   "cell_type": "markdown",
   "metadata": {},
   "source": [
    "## Import bibliotek"
   ]
  },
  {
   "cell_type": "code",
   "execution_count": 1,
   "metadata": {},
   "outputs": [],
   "source": [
    "import pandas as pd\n",
    "import matplotlib.pyplot as plt\n",
    "import seaborn as sns\n",
    "import numpy as np\n",
    "import re\n",
    "\n",
    "\n",
    "%matplotlib inline # ta komenta umożliwia wyświetlanie wykresów w tym notatniku"
   ]
  },
  {
   "cell_type": "markdown",
   "metadata": {},
   "source": [
    "## Przekształcenie danych \n",
    "Przekształcenie danych z sekwencjonowania Nanopore w formatu binarnego bam do sam, pozostawienie tylko linii zawierających odczyty (usunięcie danych z nagłówka pliku sam), wybór tylko 10 pierwszych kolumn (zmniejszenie szerokości tabeli)"
   ]
  },
  {
   "cell_type": "code",
   "execution_count": null,
   "metadata": {},
   "outputs": [],
   "source": [
    "## Poniższe polecenia są komendami z terminala. \n",
    "## Zastosowanie wykrzyknika na początku linii umożliwia ich implementację w środowisku Jupyter notebook. \n",
    "\n",
    "# Przekształcenie danych z formatu binarnego bam do formatu sam\n",
    "!samtools view -h -o dane_dec2023/rCRS_mtDNA-P2-80-050723-all_selected_range_output.sam dane_dec2023/rCRS_mtDNA-P2-80-050723-all_selected_range_output.bam\n",
    "\n",
    "# Usunięcie wszystkich linii nagłówkowych z pliku SAM, pozostawiając tylko linie z danymi o mapowaniu sekwencji\n",
    "!grep -v '^@' dane_dec2023/rCRS_mtDNA-P2-80-050723-all_selected_range_output.sam > dane_dec2023/rCRS_mtDNA_2experiments.sam\n",
    "\n",
    "# Ekstrakcja pierwszych 10 kolumn, które zawierają dane kluczowe dla dalszej analizy\n",
    "!cut -f 1-10 dane_dec2023/rCRS_mtDNA_2experiments.sam > dane_dec2023/nanopore_2experiments.sam"
   ]
  },
  {
   "cell_type": "code",
   "execution_count": null,
   "metadata": {},
   "outputs": [],
   "source": [
    "### dane przefiltrowane 6-17kB"
   ]
  },
  {
   "cell_type": "code",
   "execution_count": 128,
   "metadata": {},
   "outputs": [],
   "source": [
    "## Poniższe polecenia są komendami z terminala. \n",
    "## Zastosowanie wykrzyknika na początku linii umożliwia ich implementację w środowisku Jupyter notebook. \n",
    "\n",
    "# Przekształcenie danych z formatu binarnego bam do formatu sam\n",
    "!samtools view -h -o dane_dec2023/rCRS_mtDNA-all_ont_6-17kb_selected_coordinates.sam rCRS_mtDNA-all_ont_6-17kb_selected_coordinates.bam\n",
    "\n",
    "# Usunięcie wszystkich linii nagłówkowych z pliku SAM, pozostawiając tylko linie z danymi o mapowaniu sekwencji\n",
    "!grep -v '^@' dane_dec2023/rCRS_mtDNA-all_ont_6-17kb_selected_coordinates.sam > dane_dec2023/rCRS_mtDNA_2experiments_17.sam\n",
    "\n",
    "# Ekstrakcja pierwszych 10 kolumn, które zawierają dane kluczowe dla dalszej analizy\n",
    "!cut -f 1-10 dane_dec2023/rCRS_mtDNA_2experiments_17.sam > dane_dec2023/nanopore_2experiments_17.sam"
   ]
  },
  {
   "cell_type": "code",
   "execution_count": 129,
   "metadata": {},
   "outputs": [],
   "source": [
    "## zrob listę IDs z pliku sam\n",
    "\n",
    "\n",
    "# Define the path to your SAM file\n",
    "file_path = 'dane_dec2023/nanopore_2experiments_17.sam'\n",
    "\n",
    "# Create a list to store the read IDs\n",
    "read_ids = []\n",
    "\n",
    "# Open the SAM file and read line by line\n",
    "with open(file_path, 'r') as file:\n",
    "    for line in file:\n",
    "        if not line.startswith('@'):  # Skip the header lines\n",
    "            fields = line.split('\\t')  # Split each line into fields\n",
    "            read_id = fields[0]  # The first field is the read ID\n",
    "            read_ids.append(read_id)  # Append the read ID to the list\n",
    "\n",
    "# Now read_ids contains all the read IDs from the SAM file\n"
   ]
  },
  {
   "cell_type": "markdown",
   "metadata": {},
   "source": [
    "## Wczytanie danych do Pythona z wykorzystaniem biblioteki Pandas"
   ]
  },
  {
   "cell_type": "code",
   "execution_count": 15,
   "metadata": {
    "scrolled": true
   },
   "outputs": [],
   "source": [
    "# Wczytanie przygotowanej tabeli do Pythona \n",
    "sam = pd.read_csv('dane_dec2023/nanopore_2experiments_17.sam', \n",
    "                  sep = '\\t', names = ['read_id', 'flag', 'rname', 'pos','mapq', 'cigar', 'RNEXT', 'PNEXT',\n",
    "                                      'TLEN', 'seq'])\n",
    "# Usunięcie wybranych kolumn - w celu zmniejszenia rozmiarów tabeli\n",
    "sam.drop(columns = ['rname',  'PNEXT', 'RNEXT', 'TLEN','mapq'], inplace = True)\n"
   ]
  },
  {
   "cell_type": "code",
   "execution_count": 16,
   "metadata": {},
   "outputs": [
    {
     "data": {
      "text/html": [
       "<div>\n",
       "<style scoped>\n",
       "    .dataframe tbody tr th:only-of-type {\n",
       "        vertical-align: middle;\n",
       "    }\n",
       "\n",
       "    .dataframe tbody tr th {\n",
       "        vertical-align: top;\n",
       "    }\n",
       "\n",
       "    .dataframe thead th {\n",
       "        text-align: right;\n",
       "    }\n",
       "</style>\n",
       "<table border=\"1\" class=\"dataframe\">\n",
       "  <thead>\n",
       "    <tr style=\"text-align: right;\">\n",
       "      <th></th>\n",
       "      <th>read_id</th>\n",
       "      <th>flag</th>\n",
       "      <th>pos</th>\n",
       "      <th>cigar</th>\n",
       "      <th>seq</th>\n",
       "    </tr>\n",
       "  </thead>\n",
       "  <tbody>\n",
       "    <tr>\n",
       "      <th>0</th>\n",
       "      <td>6c7bc1da-1c11-4efd-a72b-7389aa7b2a3e</td>\n",
       "      <td>0</td>\n",
       "      <td>1</td>\n",
       "      <td>2309S310M1I35M6D3M1I2M2D4M3D95M2D51M2D45M2I163...</td>\n",
       "      <td>CTTCGTTCAGTTACGTATTGCTGATCCTCCCGAATCAACCCTGACC...</td>\n",
       "    </tr>\n",
       "    <tr>\n",
       "      <th>1</th>\n",
       "      <td>c48511b7-0dc5-46b7-92d0-6c0d273417b3</td>\n",
       "      <td>0</td>\n",
       "      <td>1</td>\n",
       "      <td>2316S56M3I9M2D32M1I195M1D33M2D2M3D8M1D12M1I12M...</td>\n",
       "      <td>CTTCGTTCAGTTACGTATTGCTGATCCTCCCGAATCAACCTGACCC...</td>\n",
       "    </tr>\n",
       "    <tr>\n",
       "      <th>2</th>\n",
       "      <td>fd962bdd-13e3-440e-9863-d35b226bc597</td>\n",
       "      <td>0</td>\n",
       "      <td>1</td>\n",
       "      <td>2307S34M2I3M1D34M1I81M4D13M4I27M1D1M1D13M1I11M...</td>\n",
       "      <td>CTTCGCGTTCAGTTACGTATTGCTGATCCTCCCGAATCAACCCCTG...</td>\n",
       "    </tr>\n",
       "    <tr>\n",
       "      <th>3</th>\n",
       "      <td>6e6b7f41-d849-41d8-a989-678dfdc8daf0</td>\n",
       "      <td>0</td>\n",
       "      <td>1</td>\n",
       "      <td>2316S242M1I25M1D17M1D12M1I51M2D38M2D2M1D23M1I3...</td>\n",
       "      <td>CTTCGTTCAGTTACGTATTGCTGATCCTCCCGAATCAACCCTGACC...</td>\n",
       "    </tr>\n",
       "    <tr>\n",
       "      <th>4</th>\n",
       "      <td>2edfff2e-5350-47e1-99ff-c1484800522d</td>\n",
       "      <td>0</td>\n",
       "      <td>1</td>\n",
       "      <td>2327S63M1I2M2D76M1I39M2I180M1D10M2I52M2D87M5D4...</td>\n",
       "      <td>ACTTCGTTCAGTTACGTATTGCTGATCCTCCCGAATCAACCCTGAC...</td>\n",
       "    </tr>\n",
       "  </tbody>\n",
       "</table>\n",
       "</div>"
      ],
      "text/plain": [
       "                                read_id  flag  pos  \\\n",
       "0  6c7bc1da-1c11-4efd-a72b-7389aa7b2a3e     0    1   \n",
       "1  c48511b7-0dc5-46b7-92d0-6c0d273417b3     0    1   \n",
       "2  fd962bdd-13e3-440e-9863-d35b226bc597     0    1   \n",
       "3  6e6b7f41-d849-41d8-a989-678dfdc8daf0     0    1   \n",
       "4  2edfff2e-5350-47e1-99ff-c1484800522d     0    1   \n",
       "\n",
       "                                               cigar  \\\n",
       "0  2309S310M1I35M6D3M1I2M2D4M3D95M2D51M2D45M2I163...   \n",
       "1  2316S56M3I9M2D32M1I195M1D33M2D2M3D8M1D12M1I12M...   \n",
       "2  2307S34M2I3M1D34M1I81M4D13M4I27M1D1M1D13M1I11M...   \n",
       "3  2316S242M1I25M1D17M1D12M1I51M2D38M2D2M1D23M1I3...   \n",
       "4  2327S63M1I2M2D76M1I39M2I180M1D10M2I52M2D87M5D4...   \n",
       "\n",
       "                                                 seq  \n",
       "0  CTTCGTTCAGTTACGTATTGCTGATCCTCCCGAATCAACCCTGACC...  \n",
       "1  CTTCGTTCAGTTACGTATTGCTGATCCTCCCGAATCAACCTGACCC...  \n",
       "2  CTTCGCGTTCAGTTACGTATTGCTGATCCTCCCGAATCAACCCCTG...  \n",
       "3  CTTCGTTCAGTTACGTATTGCTGATCCTCCCGAATCAACCCTGACC...  \n",
       "4  ACTTCGTTCAGTTACGTATTGCTGATCCTCCCGAATCAACCCTGAC...  "
      ]
     },
     "execution_count": 16,
     "metadata": {},
     "output_type": "execute_result"
    }
   ],
   "source": [
    "# Podgląd wyników\n",
    "sam.head()"
   ]
  },
  {
   "cell_type": "code",
   "execution_count": 25,
   "metadata": {},
   "outputs": [
    {
     "data": {
      "text/plain": [
       "1174"
      ]
     },
     "execution_count": 25,
     "metadata": {},
     "output_type": "execute_result"
    }
   ],
   "source": [
    "# Weryfikacja liczby odczytów (wiemy, że mamy 1151 odczytów z eksperymentu 1 i 23 odczyty z eksperymentu 2)\n",
    "sam.shape[0]"
   ]
  },
  {
   "cell_type": "markdown",
   "metadata": {},
   "source": [
    "## Weryfikacja pozycji poszczególnych nukleotydów w sekwencji na podstawie kodu cigar \n"
   ]
  },
  {
   "cell_type": "markdown",
   "metadata": {},
   "source": [
    "#### 1. Ekstrakcja liczby operacji z pola cigar"
   ]
  },
  {
   "cell_type": "markdown",
   "metadata": {},
   "source": [
    "**sam[\"cigar\"]**: Odwołuje się do kolumny cigar w DataFrame, która zawiera ciągi znaków CIGAR opisujące, jak sekwencja czytanego fragmentu DNA/RNA pasuje do referencyjnej sekwencji genomu.\n",
    "\n",
    "re.findall(r'(\\d+)([MIDNSHP=X])', x): Używa wyrażeń regularnych do znalezienia wszystkich wystąpień par liczb i liter, gdzie liczba określa liczbę powtórzeń danej operacji (MIDNSHP=X), a litera określa typ operacji:\n",
    "* M (alignment match),\n",
    "* I (insertion),\n",
    "* D (deletion),\n",
    "* N (skipped region),\n",
    "* S (soft clipping),\n",
    "* H (hard clipping),\n",
    "* P (padding),\n",
    "* = (sequence match),\n",
    "* X (sequence mismatch).\n",
    "\n",
    "**[int(match[0]) for match in ...]**: Konwertuje wszystkie znalezione liczby (pierwszy element każdej pary) na typ int i zwraca je jako listę, która jest przypisywana do nowej kolumny cigar_num."
   ]
  },
  {
   "cell_type": "code",
   "execution_count": 26,
   "metadata": {},
   "outputs": [],
   "source": [
    "sam[\"cigar_num\"] = sam[\"cigar\"].apply(lambda x:\n",
    "                                      [int(match[0]) for match in\n",
    "                                       re.findall(r'(\\d+)([MIDNSHP=X])', x)] )\n"
   ]
  },
  {
   "cell_type": "markdown",
   "metadata": {},
   "source": [
    "#### 2. Ekstrakcja liter określających operacje z pola CIGAR:"
   ]
  },
  {
   "cell_type": "markdown",
   "metadata": {},
   "source": [
    "**[match[1] for match in ...]**: Zbiera wszystkie litery (drugie elementy par zwróconych przez re.findall) reprezentujące operacje z ciągu CIGAR i tworzy z nich listę, która jest przypisywana do nowej kolumny cigar_letter."
   ]
  },
  {
   "cell_type": "code",
   "execution_count": 27,
   "metadata": {},
   "outputs": [],
   "source": [
    "sam[\"cigar_letter\"] = sam[\"cigar\"].apply(lambda x:\n",
    "                                      [match[1] for match in\n",
    "                                       re.findall(r'(\\d+)([MIDNSHP=X])', x)] )"
   ]
  },
  {
   "cell_type": "code",
   "execution_count": 28,
   "metadata": {},
   "outputs": [],
   "source": [
    "def decode_cigar(cigar_num, cigar_letter, seq):\n",
    "    '''\n",
    "    Ta funkcja pomocnicza pozwala ustalić właściwe ułożenie nukloetydów w sekwencji na podstawie kodu cigar,\n",
    "    który opisuje daną sekwencję pod kątem mapowania poszczególnych nukleotydów.\n",
    "    \n",
    "    '''\n",
    "    \n",
    "    seq_new = seq\n",
    "    sum_num = 0\n",
    "    for num, lett in zip(cigar_num, cigar_letter):\n",
    "        sum_num += num\n",
    "        if lett == 'S': ## nie bedzie dzialac na 'S' z drugiej strony, ale w tym przypadku nie ma takiej potrzeby\n",
    "            seq_new =  seq_new[:(sum_num-num)]+ seq_new[sum_num:]\n",
    "          \n",
    "        elif lett == 'M':\n",
    "            seq_new = seq_new\n",
    "        elif lett == 'I':\n",
    "            seq_new = seq_new[:(sum_num-num)]+ seq_new[sum_num:]\n",
    "        elif lett == 'D':\n",
    "            seq_new = seq_new[:(sum_num-num)] + 'D'*num +seq_new[sum_num:]\n",
    "   \n",
    "        elif lett == 'N':\n",
    "            seq_new = seq_new[:(sum_num-num)] + 'N'*num +seq_new[sum_num:]\n",
    "        elif lett == 'H':\n",
    "            seq_new = seq_new\n",
    "        elif lett == 'P':\n",
    "            seq_new = seq_new[:(sum_num-num)] + 'P'*num +seq_new[sum_num:]\n",
    "        elif lett == '=':\n",
    "            seq_new = seq_new\n",
    "        elif lett == 'X':\n",
    "            seq_new = seq_new\n",
    "        else:\n",
    "            return 'unknown cigar'\n",
    "    return seq_new"
   ]
  },
  {
   "cell_type": "code",
   "execution_count": 29,
   "metadata": {},
   "outputs": [],
   "source": [
    "## Dodanie do tabeli nowej kolumny 'seq_modified', która zawiera poszczególne nukleotydy na pozycjach \n",
    "# wyznaczonych z wykorzystaniem kodu cigar\n",
    "\n",
    "sam['seq_modified'] = sam.apply(lambda row: decode_cigar(row['cigar_num'],\n",
    "                                                          row['cigar_letter'],\n",
    "                                                          row['seq']), axis=1)"
   ]
  },
  {
   "cell_type": "code",
   "execution_count": 43,
   "metadata": {},
   "outputs": [],
   "source": [
    "## Identyfikacja nukleotydów w pozycjach 3460 i 9889\n",
    "import pandas as pd\n",
    "import re\n",
    "from itertools import combinations\n",
    "\n",
    "# Funkcja do generowania alternatywnych wzorców z trzema niedopasowaniami\n",
    "def generate_mismatch_patterns(pattern, max_mismatches=3):\n",
    "    patterns = [pattern]\n",
    "    pattern_indexes = [i for i in range(len(pattern)) if pattern[i] != '.']\n",
    "\n",
    "    for mismatch_count in range(1, max_mismatches + 1):\n",
    "        for indices in combinations(pattern_indexes, mismatch_count):\n",
    "            new_pattern = list(pattern)\n",
    "            for i in indices:\n",
    "                new_pattern[i] = '.'\n",
    "            patterns.append(''.join(new_pattern))\n",
    "\n",
    "    return patterns\n",
    "\n",
    "# Funkcja do wyszukiwania pierwszego znaku po wzorcu z niedopasowaniami\n",
    "def find_first_char_after_pattern_with_mismatch(series, pattern):\n",
    "    mismatch_patterns = generate_mismatch_patterns(pattern)\n",
    "    for mpattern in mismatch_patterns:\n",
    "        for item in series:\n",
    "            match = re.search(mpattern + '(.)', item)\n",
    "            if match:\n",
    "                return match.group(1)\n",
    "    return None"
   ]
  },
  {
   "cell_type": "code",
   "execution_count": 47,
   "metadata": {},
   "outputs": [],
   "source": [
    "pattern_3460 = \"AACCCTTCGCTGAC\"\n",
    "pattern_9889 = 'AATATTTCACTTTA'\n",
    "# Dodanie kolumny z wynikami\n",
    "output_raw['3460'] = output_raw['seq_modified'].apply(lambda x: find_first_char_after_pattern_with_mismatch([x], pattern_3460))\n",
    "output_raw['9889'] = output_raw['seq_modified'].apply(lambda x: find_first_char_after_pattern_with_mismatch([x], pattern_9889))\n"
   ]
  },
  {
   "cell_type": "code",
   "execution_count": 45,
   "metadata": {},
   "outputs": [
    {
     "data": {
      "text/html": [
       "<div>\n",
       "<style scoped>\n",
       "    .dataframe tbody tr th:only-of-type {\n",
       "        vertical-align: middle;\n",
       "    }\n",
       "\n",
       "    .dataframe tbody tr th {\n",
       "        vertical-align: top;\n",
       "    }\n",
       "\n",
       "    .dataframe thead th {\n",
       "        text-align: right;\n",
       "    }\n",
       "</style>\n",
       "<table border=\"1\" class=\"dataframe\">\n",
       "  <thead>\n",
       "    <tr style=\"text-align: right;\">\n",
       "      <th></th>\n",
       "      <th>read_id</th>\n",
       "      <th>seq_modified</th>\n",
       "      <th>experiment_raw</th>\n",
       "      <th>3460</th>\n",
       "      <th>9889</th>\n",
       "      <th>3460a</th>\n",
       "      <th>9889a</th>\n",
       "    </tr>\n",
       "  </thead>\n",
       "  <tbody>\n",
       "    <tr>\n",
       "      <th>0</th>\n",
       "      <td>6c7bc1da-1c11-4efd-a72b-7389aa7b2a3e</td>\n",
       "      <td>GATCACAGGTCTATCACCCTATTAACCACTCACGGGAGCTCTCCAT...</td>\n",
       "      <td>exp2</td>\n",
       "      <td>A</td>\n",
       "      <td>T</td>\n",
       "      <td>A</td>\n",
       "      <td>T</td>\n",
       "    </tr>\n",
       "    <tr>\n",
       "      <th>1</th>\n",
       "      <td>c48511b7-0dc5-46b7-92d0-6c0d273417b3</td>\n",
       "      <td>GATCACAGGTCTATCACCCTATTAACCACTCACGGGAGCTCTCCAT...</td>\n",
       "      <td>exp2</td>\n",
       "      <td>A</td>\n",
       "      <td>C</td>\n",
       "      <td>A</td>\n",
       "      <td>C</td>\n",
       "    </tr>\n",
       "    <tr>\n",
       "      <th>2</th>\n",
       "      <td>fd962bdd-13e3-440e-9863-d35b226bc597</td>\n",
       "      <td>GATCACAGGTCTATCACCCTATTAACCACTCACGAAGGACTCTCCG...</td>\n",
       "      <td>exp2</td>\n",
       "      <td>A</td>\n",
       "      <td>T</td>\n",
       "      <td>A</td>\n",
       "      <td>T</td>\n",
       "    </tr>\n",
       "    <tr>\n",
       "      <th>3</th>\n",
       "      <td>6e6b7f41-d849-41d8-a989-678dfdc8daf0</td>\n",
       "      <td>GATCACAGGTCTATCACCCTATTAACCACTCACGGGAGCTCTCCAT...</td>\n",
       "      <td>exp2</td>\n",
       "      <td>C</td>\n",
       "      <td>C</td>\n",
       "      <td>C</td>\n",
       "      <td>C</td>\n",
       "    </tr>\n",
       "    <tr>\n",
       "      <th>4</th>\n",
       "      <td>2edfff2e-5350-47e1-99ff-c1484800522d</td>\n",
       "      <td>GATCACAGGTCTATCACCCTATTAACCACTCACGGGAGCTCTCCAT...</td>\n",
       "      <td>exp2</td>\n",
       "      <td>NaN</td>\n",
       "      <td>T</td>\n",
       "      <td>None</td>\n",
       "      <td>T</td>\n",
       "    </tr>\n",
       "    <tr>\n",
       "      <th>...</th>\n",
       "      <td>...</td>\n",
       "      <td>...</td>\n",
       "      <td>...</td>\n",
       "      <td>...</td>\n",
       "      <td>...</td>\n",
       "      <td>...</td>\n",
       "      <td>...</td>\n",
       "    </tr>\n",
       "    <tr>\n",
       "      <th>1169</th>\n",
       "      <td>2955ceae-059c-4505-97fa-1fcf3a62a814</td>\n",
       "      <td>**********************************************...</td>\n",
       "      <td>exp1</td>\n",
       "      <td>A</td>\n",
       "      <td>T</td>\n",
       "      <td>A</td>\n",
       "      <td>T</td>\n",
       "    </tr>\n",
       "    <tr>\n",
       "      <th>1170</th>\n",
       "      <td>b5a9320c-527b-41bf-9fe3-9ed53de65d02</td>\n",
       "      <td>**********************************************...</td>\n",
       "      <td>exp1</td>\n",
       "      <td>G</td>\n",
       "      <td>T</td>\n",
       "      <td>G</td>\n",
       "      <td>T</td>\n",
       "    </tr>\n",
       "    <tr>\n",
       "      <th>1171</th>\n",
       "      <td>e05aafd0-3932-4b0b-9c9e-4abb12f41231</td>\n",
       "      <td>**********************************************...</td>\n",
       "      <td>exp1</td>\n",
       "      <td>G</td>\n",
       "      <td>NaN</td>\n",
       "      <td>G</td>\n",
       "      <td>None</td>\n",
       "    </tr>\n",
       "    <tr>\n",
       "      <th>1172</th>\n",
       "      <td>b29f4024-7a5c-49dc-905e-80aeaf59889b</td>\n",
       "      <td>**********************************************...</td>\n",
       "      <td>exp1</td>\n",
       "      <td>G</td>\n",
       "      <td>T</td>\n",
       "      <td>G</td>\n",
       "      <td>T</td>\n",
       "    </tr>\n",
       "    <tr>\n",
       "      <th>1173</th>\n",
       "      <td>9c5e89da-6855-4d31-8a6c-5dc55e8b113e</td>\n",
       "      <td>**********************************************...</td>\n",
       "      <td>exp1</td>\n",
       "      <td>G</td>\n",
       "      <td>T</td>\n",
       "      <td>G</td>\n",
       "      <td>T</td>\n",
       "    </tr>\n",
       "  </tbody>\n",
       "</table>\n",
       "<p>1174 rows × 7 columns</p>\n",
       "</div>"
      ],
      "text/plain": [
       "                                   read_id  \\\n",
       "0     6c7bc1da-1c11-4efd-a72b-7389aa7b2a3e   \n",
       "1     c48511b7-0dc5-46b7-92d0-6c0d273417b3   \n",
       "2     fd962bdd-13e3-440e-9863-d35b226bc597   \n",
       "3     6e6b7f41-d849-41d8-a989-678dfdc8daf0   \n",
       "4     2edfff2e-5350-47e1-99ff-c1484800522d   \n",
       "...                                    ...   \n",
       "1169  2955ceae-059c-4505-97fa-1fcf3a62a814   \n",
       "1170  b5a9320c-527b-41bf-9fe3-9ed53de65d02   \n",
       "1171  e05aafd0-3932-4b0b-9c9e-4abb12f41231   \n",
       "1172  b29f4024-7a5c-49dc-905e-80aeaf59889b   \n",
       "1173  9c5e89da-6855-4d31-8a6c-5dc55e8b113e   \n",
       "\n",
       "                                           seq_modified experiment_raw 3460  \\\n",
       "0     GATCACAGGTCTATCACCCTATTAACCACTCACGGGAGCTCTCCAT...           exp2    A   \n",
       "1     GATCACAGGTCTATCACCCTATTAACCACTCACGGGAGCTCTCCAT...           exp2    A   \n",
       "2     GATCACAGGTCTATCACCCTATTAACCACTCACGAAGGACTCTCCG...           exp2    A   \n",
       "3     GATCACAGGTCTATCACCCTATTAACCACTCACGGGAGCTCTCCAT...           exp2    C   \n",
       "4     GATCACAGGTCTATCACCCTATTAACCACTCACGGGAGCTCTCCAT...           exp2  NaN   \n",
       "...                                                 ...            ...  ...   \n",
       "1169  **********************************************...           exp1    A   \n",
       "1170  **********************************************...           exp1    G   \n",
       "1171  **********************************************...           exp1    G   \n",
       "1172  **********************************************...           exp1    G   \n",
       "1173  **********************************************...           exp1    G   \n",
       "\n",
       "     9889 3460a 9889a  \n",
       "0       T     A     T  \n",
       "1       C     A     C  \n",
       "2       T     A     T  \n",
       "3       C     C     C  \n",
       "4       T  None     T  \n",
       "...   ...   ...   ...  \n",
       "1169    T     A     T  \n",
       "1170    T     G     T  \n",
       "1171  NaN     G  None  \n",
       "1172    T     G     T  \n",
       "1173    T     G     T  \n",
       "\n",
       "[1174 rows x 7 columns]"
      ]
     },
     "execution_count": 45,
     "metadata": {},
     "output_type": "execute_result"
    }
   ],
   "source": []
  },
  {
   "cell_type": "code",
   "execution_count": 131,
   "metadata": {},
   "outputs": [],
   "source": [
    "#### Dla ułatwienia - tutaj wczytano gotową tabelę,  w której w odczyty zostały już podzielone względem \n",
    "# eksperymentu (1 i 2) i przypisano im nukleotydy na odpowiednich pozycjach\n",
    "# Numer eksperymentu został przypisany na podstawie ID odczytów z nieprzefiltrowanego pliku z eks. 1.\n",
    "\n",
    "output_raw = pd.read_csv('dane_dec2023/sam_2nd_columns_sequence_june2024.csv')\n",
    "output_raw = output_raw.drop(columns = ['experiment'])\n"
   ]
  },
  {
   "cell_type": "code",
   "execution_count": 50,
   "metadata": {},
   "outputs": [
    {
     "data": {
      "text/html": [
       "<div>\n",
       "<style scoped>\n",
       "    .dataframe tbody tr th:only-of-type {\n",
       "        vertical-align: middle;\n",
       "    }\n",
       "\n",
       "    .dataframe tbody tr th {\n",
       "        vertical-align: top;\n",
       "    }\n",
       "\n",
       "    .dataframe thead th {\n",
       "        text-align: right;\n",
       "    }\n",
       "</style>\n",
       "<table border=\"1\" class=\"dataframe\">\n",
       "  <thead>\n",
       "    <tr style=\"text-align: right;\">\n",
       "      <th></th>\n",
       "      <th>read_id</th>\n",
       "      <th>seq_modified</th>\n",
       "      <th>experiment_raw</th>\n",
       "      <th>3460</th>\n",
       "      <th>9889</th>\n",
       "    </tr>\n",
       "  </thead>\n",
       "  <tbody>\n",
       "    <tr>\n",
       "      <th>0</th>\n",
       "      <td>6c7bc1da-1c11-4efd-a72b-7389aa7b2a3e</td>\n",
       "      <td>GATCACAGGTCTATCACCCTATTAACCACTCACGGGAGCTCTCCAT...</td>\n",
       "      <td>exp2</td>\n",
       "      <td>A</td>\n",
       "      <td>T</td>\n",
       "    </tr>\n",
       "    <tr>\n",
       "      <th>1</th>\n",
       "      <td>c48511b7-0dc5-46b7-92d0-6c0d273417b3</td>\n",
       "      <td>GATCACAGGTCTATCACCCTATTAACCACTCACGGGAGCTCTCCAT...</td>\n",
       "      <td>exp2</td>\n",
       "      <td>A</td>\n",
       "      <td>C</td>\n",
       "    </tr>\n",
       "    <tr>\n",
       "      <th>2</th>\n",
       "      <td>fd962bdd-13e3-440e-9863-d35b226bc597</td>\n",
       "      <td>GATCACAGGTCTATCACCCTATTAACCACTCACGAAGGACTCTCCG...</td>\n",
       "      <td>exp2</td>\n",
       "      <td>A</td>\n",
       "      <td>T</td>\n",
       "    </tr>\n",
       "    <tr>\n",
       "      <th>3</th>\n",
       "      <td>6e6b7f41-d849-41d8-a989-678dfdc8daf0</td>\n",
       "      <td>GATCACAGGTCTATCACCCTATTAACCACTCACGGGAGCTCTCCAT...</td>\n",
       "      <td>exp2</td>\n",
       "      <td>C</td>\n",
       "      <td>C</td>\n",
       "    </tr>\n",
       "    <tr>\n",
       "      <th>4</th>\n",
       "      <td>2edfff2e-5350-47e1-99ff-c1484800522d</td>\n",
       "      <td>GATCACAGGTCTATCACCCTATTAACCACTCACGGGAGCTCTCCAT...</td>\n",
       "      <td>exp2</td>\n",
       "      <td>NaN</td>\n",
       "      <td>T</td>\n",
       "    </tr>\n",
       "  </tbody>\n",
       "</table>\n",
       "</div>"
      ],
      "text/plain": [
       "                                read_id  \\\n",
       "0  6c7bc1da-1c11-4efd-a72b-7389aa7b2a3e   \n",
       "1  c48511b7-0dc5-46b7-92d0-6c0d273417b3   \n",
       "2  fd962bdd-13e3-440e-9863-d35b226bc597   \n",
       "3  6e6b7f41-d849-41d8-a989-678dfdc8daf0   \n",
       "4  2edfff2e-5350-47e1-99ff-c1484800522d   \n",
       "\n",
       "                                        seq_modified experiment_raw 3460 9889  \n",
       "0  GATCACAGGTCTATCACCCTATTAACCACTCACGGGAGCTCTCCAT...           exp2    A    T  \n",
       "1  GATCACAGGTCTATCACCCTATTAACCACTCACGGGAGCTCTCCAT...           exp2    A    C  \n",
       "2  GATCACAGGTCTATCACCCTATTAACCACTCACGAAGGACTCTCCG...           exp2    A    T  \n",
       "3  GATCACAGGTCTATCACCCTATTAACCACTCACGGGAGCTCTCCAT...           exp2    C    C  \n",
       "4  GATCACAGGTCTATCACCCTATTAACCACTCACGGGAGCTCTCCAT...           exp2  NaN    T  "
      ]
     },
     "execution_count": 50,
     "metadata": {},
     "output_type": "execute_result"
    }
   ],
   "source": [
    "# Podgląd danych\n",
    "output_raw.head()"
   ]
  },
  {
   "cell_type": "code",
   "execution_count": 132,
   "metadata": {},
   "outputs": [],
   "source": [
    "## filtruję 6-17kB\n",
    "filtered_df_17 = output_raw[output_raw['read_id'].isin(read_ids)]"
   ]
  },
  {
   "cell_type": "code",
   "execution_count": 133,
   "metadata": {},
   "outputs": [
    {
     "name": "stdout",
     "output_type": "stream",
     "text": [
      "Liczba wszystkich odczytów: 1117\n",
      "Liczba odczytów po usunięciu tych z brakującymi pozycjami : 1002\n"
     ]
    }
   ],
   "source": [
    "### Usuwam odczyty, którym brakuje nukleotydu w którejś z dwóch wskazanych pozycji\n",
    "filtered_df = filtered_df_17.dropna(subset=['3460', '9889'])\n",
    "print('Liczba wszystkich odczytów: {}'.format(filtered_df_17.shape[0]))\n",
    "print('Liczba odczytów po usunięciu tych z brakującymi pozycjami : {}'.format(filtered_df.shape[0]))"
   ]
  },
  {
   "cell_type": "code",
   "execution_count": 51,
   "metadata": {},
   "outputs": [
    {
     "name": "stdout",
     "output_type": "stream",
     "text": [
      "Liczba wszystkich odczytów: 1174\n",
      "Liczba odczytów po usunięciu tych z brakującymi pozycjami : 1052\n"
     ]
    }
   ],
   "source": [
    "'''\n",
    "### Usuwam odczyty, którym brakuje nukleotydu w którejś z dwóch wskazanych pozycji\n",
    "filtered_df = output_raw.dropna(subset=['3460', '9889'])\n",
    "print('Liczba wszystkich odczytów: {}'.format(output_raw.shape[0]))\n",
    "print('Liczba odczytów po usunięciu tych z brakującymi pozycjami : {}'.format(filtered_df.shape[0]))\n",
    "\n",
    "'''"
   ]
  },
  {
   "cell_type": "code",
   "execution_count": 52,
   "metadata": {},
   "outputs": [],
   "source": [
    "### Podsumowania:"
   ]
  },
  {
   "cell_type": "code",
   "execution_count": 138,
   "metadata": {
    "scrolled": true
   },
   "outputs": [
    {
     "name": "stdout",
     "output_type": "stream",
     "text": [
      "Total_reads: 1002\n",
      "Reads_lacking_position: 0\n",
      "Reads_both_positions: 1002\n",
      "No_variants: 31\n",
      "Variant1: 176\n",
      "Variant2: 370\n",
      "Variants1&2: 321\n",
      "\n",
      "\n",
      "%_no_variants 3.09\n",
      "%_variant1 17.56\n",
      " %_variant2 36.93\n",
      "%_variants1&2 32.04\n"
     ]
    },
    {
     "name": "stderr",
     "output_type": "stream",
     "text": [
      "/home/llipinska/anaconda3/envs/rnatails/lib/python3.6/site-packages/ipykernel_launcher.py:2: SettingWithCopyWarning: \n",
      "A value is trying to be set on a copy of a slice from a DataFrame.\n",
      "Try using .loc[row_indexer,col_indexer] = value instead\n",
      "\n",
      "See the caveats in the documentation: https://pandas.pydata.org/pandas-docs/stable/user_guide/indexing.html#returning-a-view-versus-a-copy\n",
      "  \n",
      "/home/llipinska/anaconda3/envs/rnatails/lib/python3.6/site-packages/ipykernel_launcher.py:3: SettingWithCopyWarning: \n",
      "A value is trying to be set on a copy of a slice from a DataFrame.\n",
      "Try using .loc[row_indexer,col_indexer] = value instead\n",
      "\n",
      "See the caveats in the documentation: https://pandas.pydata.org/pandas-docs/stable/user_guide/indexing.html#returning-a-view-versus-a-copy\n",
      "  This is separate from the ipykernel package so we can avoid doing imports until\n"
     ]
    },
    {
     "data": {
      "text/plain": [
       "'  '"
      ]
     },
     "execution_count": 138,
     "metadata": {},
     "output_type": "execute_result"
    }
   ],
   "source": [
    "sam = filtered_df\n",
    "sam['pos_3460'] = sam['3460']\n",
    "sam['pos_9889'] =  sam['9889']\n",
    "filtered_df = sam\n",
    "print('Total_reads:', format(sam.shape[0]))\n",
    "### filtracja odczytów, dla których nie mamy danych z pozycji 1 i 2\n",
    "sam_filtered = sam[(sam['pos_3460'].isna())|(sam['pos_9889'].isna())]\n",
    "print('Reads_lacking_position:', sam_filtered.shape[0])\n",
    "print('Reads_both_positions:', sam.shape[0]-sam_filtered.shape[0])\n",
    "reads_for_analysys = sam.shape[0]-sam_filtered.shape[0]\n",
    "\n",
    "## ile odczytów nie ma mutacji punktowych w pozycjach 1 i 2\n",
    "sam_bez_mutacji_1_2 = sam[(sam['pos_3460']=='G')&(sam['pos_9889']=='C')]\n",
    "print('No_variants:', sam_bez_mutacji_1_2.shape[0])\n",
    "\n",
    "## ile odczytów na mutację tylko w pozycji 1\n",
    "sam_mut_1 = sam[(sam['pos_3460']=='A')&(sam['pos_9889']=='C')]\n",
    "print('Variant1:', sam_mut_1.shape[0])\n",
    "\n",
    "## ile odczytów na mutację tylko w pozycji 2\n",
    "sam_mut_2 = sam[(sam['pos_3460']=='A')&(sam['pos_9889']=='T')]\n",
    "print('Variant2:', sam_mut_2.shape[0])\n",
    "    \n",
    "## ile odczytów na mutacje  w pozycjach 1 i 2\n",
    "sam_mut_1_2 = sam[(sam['pos_3460']=='G')&(sam['pos_9889']=='T')]\n",
    "print('Variants1&2:', sam_mut_1_2.shape[0])\n",
    "   \n",
    "print('\\n')\n",
    "print('%_no_variants', round(100*(sam_bez_mutacji_1_2.shape[0]/reads_for_analysys), 2))\n",
    "print('%_variant1', round(100*(sam_mut_1.shape[0]/reads_for_analysys), 2))\n",
    "print(' %_variant2', round(100*(sam_mut_2.shape[0]/reads_for_analysys), 2))\n",
    "print('%_variants1&2', round(100*(sam_mut_1_2.shape[0]/reads_for_analysys), 2))    \n",
    ";   "
   ]
  },
  {
   "cell_type": "code",
   "execution_count": 140,
   "metadata": {},
   "outputs": [],
   "source": [
    "# Na podstawie powyższych wyników przygotowuję obiekt DataFrame, żeby móc w dalszej części zwizualizować wyniki\n",
    "\n",
    "# Analiza statystyk\n",
    "summary_data = {\n",
    "    'Description': [\n",
    "        'Total reads',\n",
    "        'Reads lacking position data',\n",
    "        'Reads with both positions',\n",
    "        'No variants (G at 3460 and C at 9889)',\n",
    "        'Variant at position 3460 (A)',\n",
    "        'Variant at position 9889 (T)',\n",
    "        'Variants at both positions (G at 3460 and T at 9889)',\n",
    "        'Other variants (not fitting any category)'\n",
    "    ],\n",
    "    'Count': [\n",
    "        filtered_df_17.shape[0],\n",
    "        filtered_df_17[(filtered_df_17['3460'].isna())|(filtered_df_17['9889'].isna())].shape[0],\n",
    "        reads_for_analysys,\n",
    "        sam_bez_mutacji_1_2.shape[0],\n",
    "        sam_mut_1.shape[0],\n",
    "        sam_mut_2.shape[0],\n",
    "        sam_mut_1_2.shape[0],\n",
    "        sam.shape[0] - (sam_bez_mutacji_1_2.shape[0] + sam_mut_1.shape[0] + sam_mut_2.shape[0] + sam_mut_1_2.shape[0])\n",
    "    ]\n",
    "}\n",
    "\n",
    "# Tworzenie DataFrame\n",
    "summary_df = pd.DataFrame(summary_data)\n",
    "\n",
    "# Dodawanie procentowych statystyk mutacji - procenty względem surowych danych\n",
    "summary_df['Percentage'] = 100 * summary_df['Count'] / output_raw.shape[0]\n",
    "summary_df['Percentage'].fillna(0, inplace=True)  # Zastąp NaN zerami w przypadku dzielenia przez zero\n",
    "\n",
    "# Dodawanie procentowych statystyk mutacji - procenty wzgledem odczytow, ktore posiadaja obydwie pozycje\n",
    "summary_df['Percentage_of_complete_reads'] = 100 * summary_df['Count'] / reads_for_analysys\n",
    "summary_df['Percentage_of_complete_reads'].fillna(0, inplace=True)  # Zastąp NaN zerami w przypadku dzielenia przez zero\n",
    "\n",
    "\n"
   ]
  },
  {
   "cell_type": "code",
   "execution_count": 141,
   "metadata": {},
   "outputs": [
    {
     "data": {
      "text/html": [
       "<div>\n",
       "<style scoped>\n",
       "    .dataframe tbody tr th:only-of-type {\n",
       "        vertical-align: middle;\n",
       "    }\n",
       "\n",
       "    .dataframe tbody tr th {\n",
       "        vertical-align: top;\n",
       "    }\n",
       "\n",
       "    .dataframe thead th {\n",
       "        text-align: right;\n",
       "    }\n",
       "</style>\n",
       "<table border=\"1\" class=\"dataframe\">\n",
       "  <thead>\n",
       "    <tr style=\"text-align: right;\">\n",
       "      <th></th>\n",
       "      <th>Description</th>\n",
       "      <th>Count</th>\n",
       "      <th>Percentage</th>\n",
       "      <th>Percentage_of_complete_reads</th>\n",
       "    </tr>\n",
       "  </thead>\n",
       "  <tbody>\n",
       "    <tr>\n",
       "      <th>0</th>\n",
       "      <td>Total reads</td>\n",
       "      <td>1117</td>\n",
       "      <td>95.144804</td>\n",
       "      <td>111.477046</td>\n",
       "    </tr>\n",
       "    <tr>\n",
       "      <th>1</th>\n",
       "      <td>Reads lacking position data</td>\n",
       "      <td>115</td>\n",
       "      <td>9.795571</td>\n",
       "      <td>11.477046</td>\n",
       "    </tr>\n",
       "    <tr>\n",
       "      <th>2</th>\n",
       "      <td>Reads with both positions</td>\n",
       "      <td>1002</td>\n",
       "      <td>85.349233</td>\n",
       "      <td>100.000000</td>\n",
       "    </tr>\n",
       "    <tr>\n",
       "      <th>3</th>\n",
       "      <td>No variants (G at 3460 and C at 9889)</td>\n",
       "      <td>31</td>\n",
       "      <td>2.640545</td>\n",
       "      <td>3.093812</td>\n",
       "    </tr>\n",
       "    <tr>\n",
       "      <th>4</th>\n",
       "      <td>Variant at position 3460 (A)</td>\n",
       "      <td>176</td>\n",
       "      <td>14.991482</td>\n",
       "      <td>17.564870</td>\n",
       "    </tr>\n",
       "    <tr>\n",
       "      <th>5</th>\n",
       "      <td>Variant at position 9889 (T)</td>\n",
       "      <td>370</td>\n",
       "      <td>31.516184</td>\n",
       "      <td>36.926148</td>\n",
       "    </tr>\n",
       "    <tr>\n",
       "      <th>6</th>\n",
       "      <td>Variants at both positions (G at 3460 and T at...</td>\n",
       "      <td>321</td>\n",
       "      <td>27.342419</td>\n",
       "      <td>32.035928</td>\n",
       "    </tr>\n",
       "    <tr>\n",
       "      <th>7</th>\n",
       "      <td>Other variants (not fitting any category)</td>\n",
       "      <td>104</td>\n",
       "      <td>8.858603</td>\n",
       "      <td>10.379242</td>\n",
       "    </tr>\n",
       "  </tbody>\n",
       "</table>\n",
       "</div>"
      ],
      "text/plain": [
       "                                         Description  Count  Percentage  \\\n",
       "0                                        Total reads   1117   95.144804   \n",
       "1                        Reads lacking position data    115    9.795571   \n",
       "2                          Reads with both positions   1002   85.349233   \n",
       "3              No variants (G at 3460 and C at 9889)     31    2.640545   \n",
       "4                       Variant at position 3460 (A)    176   14.991482   \n",
       "5                       Variant at position 9889 (T)    370   31.516184   \n",
       "6  Variants at both positions (G at 3460 and T at...    321   27.342419   \n",
       "7          Other variants (not fitting any category)    104    8.858603   \n",
       "\n",
       "   Percentage_of_complete_reads  \n",
       "0                    111.477046  \n",
       "1                     11.477046  \n",
       "2                    100.000000  \n",
       "3                      3.093812  \n",
       "4                     17.564870  \n",
       "5                     36.926148  \n",
       "6                     32.035928  \n",
       "7                     10.379242  "
      ]
     },
     "execution_count": 141,
     "metadata": {},
     "output_type": "execute_result"
    }
   ],
   "source": [
    "# Przegląd danych\n",
    "summary_df.head(40)"
   ]
  },
  {
   "cell_type": "code",
   "execution_count": 142,
   "metadata": {},
   "outputs": [
    {
     "data": {
      "image/png": "[encoded data removed]",
      "text/plain": [
       "<Figure size 576x576 with 1 Axes>"
      ]
     },
     "metadata": {
      "needs_background": "light"
     },
     "output_type": "display_data"
    }
   ],
   "source": [
    "# Ustawienie rozmiaru wykresu\n",
    "plt.figure(figsize=(8, 8))  # Szerokość, wysokość w calach\n",
    "\n",
    "# Tworzenie wykresu słupkowego\n",
    "ax = sns.barplot(data=summary_df, x='Count', y='Description', color='coral')\n",
    "y_labels1 = ['Całkowita liczba odczytów', \n",
    "             \"Odczyty niekopletne,\\nodrzucone z dalszej analizy\", \"Odczyty kompletne,\\nwzięte do dalszej analizy\",\n",
    "             'Brak wariantów', 'Wariant 1\\npoz. 3460 G>A', \n",
    "            'Wariant 2\\npoz. 9889 C>T',\n",
    "            'Warianty 1 i 2\\npoz. 3460 G>A i poz. 9889 C>T',\n",
    "            'Inne warianty,\\nnie odpowiadające powyższym kategoriom']\n",
    "# Dodawanie opisów osi z niestandardową czcionką\n",
    "ax.set_xlabel('Liczba odczytów', fontsize=16)  # Ustawienie etykiety i rozmiaru czcionki osi X\n",
    "ax.set_ylabel('Etap analizy danych lub zidentyfikowane warianty', fontsize=16)  # Ustawienie etykiety i rozmiaru czcionki osi Y\n",
    "ax.set_title('Podsumowanie liczby odczytów na poszczególnych\\netapach analizy danych',\n",
    "             fontsize=18)  # Tytuł wykresu\n",
    "\n",
    "# Dostosowanie etykiet na osiach\n",
    "plt.xticks(fontsize=16)  # Ustawienie rozmiaru czcionki dla etykiet na osi X\n",
    "plt.yticks(fontsize=16)  # Ustawienie rozmiaru czcionki dla etykiet na osi Y\n",
    "ax.set_yticklabels(y_labels1, fontsize=16)\n",
    "# Zapisywanie wykresu do pliku\n",
    "# Zapisywanie wykresu do pliku\n",
    "plt.savefig('summary_liczbyodczytow_20240617_6-17kB.png')  # Zapis do pliku PNG\n",
    "plt.savefig('summary_liczbyodczytow_20240617_6-17kB.png')  \n",
    "# Wyświetlenie wykresu\n",
    "plt.show()"
   ]
  },
  {
   "cell_type": "code",
   "execution_count": 143,
   "metadata": {},
   "outputs": [
    {
     "data": {
      "image/png": "[encoded data removed]",
      "text/plain": [
       "<Figure size 576x432 with 1 Axes>"
      ]
     },
     "metadata": {
      "needs_background": "light"
     },
     "output_type": "display_data"
    }
   ],
   "source": [
    "### Wizualizacje tylko dla wariantów\n",
    "\n",
    "\n",
    "# Wybór wierszy od czwartego do siódmego (indeksy od 3 do 6, ponieważ indeksujemy od 0)\n",
    "subset_df = summary_df.iloc[3:7]\n",
    "y_labels = ['Brak wariantów', 'Wariant 1\\npoz. 3460 G>A', \n",
    "            'Wariant 2\\npoz. 9889 C>T',\n",
    "            'Warianty 1 i 2\\npoz. 3460 G>A i poz. 9889 C>T']\n",
    "# Ustawienie rozmiaru wykresu\n",
    "plt.figure(figsize=(8, 6))  # Szerokość, wysokość w calach\n",
    "\n",
    "# Tworzenie wykresu słupkowego dla wybranego podzbioru\n",
    "ax = sns.barplot(data=subset_df, x='Percentage_of_complete_reads', \n",
    "                 y='Description', color='coral')\n",
    "\n",
    "# Dodawanie opisów osi z niestandardową czcionką\n",
    "ax.set_xlabel('Udział procentowy [%]', fontsize=16)  # Ustawienie etykiety i rozmiaru czcionki osi X\n",
    "ax.set_ylabel('Występowanie wariantów', fontsize=16)  # Ustawienie etykiety i rozmiaru czcionki osi Y\n",
    "ax.set_title('Porównanie udziału procentowego zidentyfikowanych wariantów',\n",
    "             fontsize=18)  # Tytuł wykresu\n",
    "\n",
    "# Dostosowanie etykiet na osiach\n",
    "plt.xticks(fontsize=16)  # Ustawienie rozmiaru czcionki dla etykiet na osi X\n",
    "plt.yticks(fontsize=16)  # Ustawienie rozmiaru czcionki dla etykiet na osi Y\n",
    "ax.set_yticklabels(y_labels, fontsize=16)\n",
    "# Zapisywanie wykresu do pliku\n",
    "plt.savefig('warianty_procentowo_20240617_6-17kB.png', dpi=300)  # Zapis do pliku PNG z wysoką rozdzielczością\n",
    "plt.savefig('warianty_procentowo_20240617_6-17kB.pdf', dpi=300)\n",
    "# Wyświetlenie wykresu\n",
    "plt.show()"
   ]
  },
  {
   "cell_type": "code",
   "execution_count": 109,
   "metadata": {},
   "outputs": [
    {
     "data": {
      "image/png": "[encoded data removed]",
      "text/plain": [
       "<Figure size 576x432 with 1 Axes>"
      ]
     },
     "metadata": {
      "needs_background": "light"
     },
     "output_type": "display_data"
    }
   ],
   "source": [
    "## to samo tylko z wartościami procentowymi:\n",
    "\n",
    "# Wybór wierszy od czwartego do siódmego (indeksy od 3 do 6, ponieważ indeksujemy od 0)\n",
    "subset_df = summary_df.iloc[3:7]\n",
    "\n",
    "# Ustawienie rozmiaru wykresu\n",
    "plt.figure(figsize=(8, 6))  # Szerokość, wysokość w calach\n",
    "\n",
    "# Tworzenie wykresu słupkowego dla wybranego podzbioru\n",
    "ax = sns.barplot(data=subset_df, x='Count', y='Description', color='coral')\n",
    "\n",
    "# Dodawanie opisów osi z niestandardową czcionką\n",
    "ax.set_xlabel('Count', fontsize=14)  # Ustawienie etykiety i rozmiaru czcionki osi X\n",
    "ax.set_ylabel('Description', fontsize=14)  # Ustawienie etykiety i rozmiaru czcionki osi Y\n",
    "ax.set_title('Subset Summary of Reads Analysis', fontsize=16)  # Tytuł wykresu\n",
    "\n",
    "# Dostosowanie etykiet na osiach\n",
    "plt.xticks(fontsize=14)  # Ustawienie rozmiaru czcionki dla etykiet na osi X\n",
    "plt.yticks(fontsize=14)  # Ustawienie rozmiaru czcionki dla etykiet na osi Y\n",
    "\n",
    "# Zapisywanie wykresu do pliku\n",
    "plt.savefig('subset_dna_reads_summary.png', dpi=300)  # Zapis do pliku PNG z wysoką rozdzielczością\n",
    "\n",
    "# Wyświetlenie wykresu\n",
    "plt.show()"
   ]
  },
  {
   "cell_type": "markdown",
   "metadata": {},
   "source": [
    "## Jakie inne nukleotydy znalazły się we wskazanych pozycjach?"
   ]
  },
  {
   "cell_type": "code",
   "execution_count": 145,
   "metadata": {},
   "outputs": [
    {
     "name": "stderr",
     "output_type": "stream",
     "text": [
      "/home/llipinska/anaconda3/envs/rnatails/lib/python3.6/site-packages/ipykernel_launcher.py:3: SettingWithCopyWarning: \n",
      "A value is trying to be set on a copy of a slice from a DataFrame.\n",
      "Try using .loc[row_indexer,col_indexer] = value instead\n",
      "\n",
      "See the caveats in the documentation: https://pandas.pydata.org/pandas-docs/stable/user_guide/indexing.html#returning-a-view-versus-a-copy\n",
      "  This is separate from the ipykernel package so we can avoid doing imports until\n"
     ]
    }
   ],
   "source": [
    "# Dodaję kolumnę zawierającą nukleotydy w pozycjach 3460 i 9889\n",
    "\n",
    "filtered_df['3460_9889'] = filtered_df['3460'] + '_' + filtered_df['9889'] "
   ]
  },
  {
   "cell_type": "code",
   "execution_count": 146,
   "metadata": {},
   "outputs": [
    {
     "data": {
      "text/plain": [
       "A_T    370\n",
       "G_T    321\n",
       "A_C    176\n",
       "A_A     31\n",
       "G_C     31\n",
       "C_T     19\n",
       "G_A     17\n",
       "C_C     10\n",
       "A_D      8\n",
       "T_T      7\n",
       "D_T      5\n",
       "A_G      2\n",
       "T_C      1\n",
       "C_A      1\n",
       "G_D      1\n",
       "D_G      1\n",
       "D_C      1\n",
       "Name: 3460_9889, dtype: int64"
      ]
     },
     "execution_count": 146,
     "metadata": {},
     "output_type": "execute_result"
    }
   ],
   "source": [
    "# Teraz sprawdzam jaki jest rozklad różnych wariantów. Zgadza się z wcześniejszymi wyliczeniami.\n",
    "\n",
    "filtered_df['3460_9889'].value_counts()"
   ]
  },
  {
   "cell_type": "code",
   "execution_count": null,
   "metadata": {},
   "outputs": [],
   "source": []
  },
  {
   "cell_type": "markdown",
   "metadata": {},
   "source": [
    "## Statystyki"
   ]
  },
  {
   "cell_type": "code",
   "execution_count": 144,
   "metadata": {},
   "outputs": [
    {
     "name": "stdout",
     "output_type": "stream",
     "text": [
      "Chi2 Statystyka = 313.04, p-wartość = 1.49903314145936e-67\n"
     ]
    }
   ],
   "source": [
    "# Dane z eksperymentów\n",
    "\n",
    "## Test statytyczny dla połączonego eksperymentu 1 i 2\n",
    "\n",
    "import scipy.stats as stats\n",
    "\n",
    "# Dane dla eksperymentu 1\n",
    "data_exp1 = [sam_bez_mutacji_1_2.shape[0],\n",
    "        sam_mut_1.shape[0],\n",
    "        sam_mut_2.shape[0],\n",
    "        sam_mut_1_2.shape[0]]  # no_variants, variant1, variant2, variants1&2\n",
    "\n",
    "# Obliczenie łącznej liczby obserwacji\n",
    "total_obs = sum(data_exp1)\n",
    "\n",
    "# Obliczenie oczekiwanej liczby obserwacji dla każdego wariantu, gdyby były rozłożone równomiernie\n",
    "expected = [total_obs / 4] * 4  # Zakładamy równe rozłożenie\n",
    "\n",
    "# Przeprowadzenie testu Chi-kwadrat dobroci dopasowania\n",
    "chi2_stat, p_value = stats.chisquare(data_exp1, f_exp=expected)\n",
    "\n",
    "print(f\"Chi2 Statystyka = {chi2_stat:.2f}, p-wartość = {p_value}\")\n"
   ]
  },
  {
   "cell_type": "code",
   "execution_count": null,
   "metadata": {},
   "outputs": [],
   "source": []
  }
 ],
 "metadata": {
  "kernelspec": {
   "display_name": "Python 3",
   "language": "python",
   "name": "python3"
  },
  "language_info": {
   "codemirror_mode": {
    "name": "ipython",
    "version": 3
   },
   "file_extension": ".py",
   "mimetype": "text/x-python",
   "name": "python",
   "nbconvert_exporter": "python",
   "pygments_lexer": "ipython3",
   "version": "3.6.6"
  }
 },
 "nbformat": 4,
 "nbformat_minor": 4
}
